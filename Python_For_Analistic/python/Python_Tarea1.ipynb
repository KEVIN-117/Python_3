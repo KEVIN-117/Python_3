{
 "cells": [
  {
   "cell_type": "markdown",
   "metadata": {
    "id": "sjx-cCS2qjXB"
   },
   "source": [
    "# Ejercicios Propuestos #1\n"
   ]
  },
  {
   "cell_type": "markdown",
   "metadata": {
    "id": "FC1OCQkAS7LX"
   },
   "source": [
    "## Parte 1: ***Introducción***"
   ]
  },
  {
   "cell_type": "markdown",
   "metadata": {},
   "source": [
    "**Ejercicio 1**\n",
    "\n",
    "Empecemos con algo simple. Determina el resultado de las siguientes operaciones a partir de las siguientes variables. Ademá, identifica el tipo de dato de las variables a, b, c y d.\n",
    "```python\n",
    "a = 10\n",
    "b = -5\n",
    "c = \"Hola \"\n",
    "d = [1, 2, 3]\n",
    "```\n",
    "```python\n",
    "print(a * 5)  \n",
    "print(a - b)    \n",
    "print(c + \"Mundo\")   \n",
    "print(c * 2)        \n",
    "print(c[-1])        \n",
    "print(c[1:])    \n",
    "print(d + d)       \n",
    "```"
   ]
  },
  {
   "cell_type": "code",
   "execution_count": null,
   "metadata": {},
   "outputs": [],
   "source": [
    "# Completa el ejercicio aquí"
   ]
  },
  {
   "cell_type": "markdown",
   "metadata": {
    "id": "veBNArNsS7LZ"
   },
   "source": [
    "**Ejercicio 2**\n",
    "\n",
    "Escribir un programa que realice la siguiente operación aritmética $\\left(\\frac{3+2}{2 \\cdot  5}\\right)^2$"
   ]
  },
  {
   "cell_type": "code",
   "execution_count": null,
   "metadata": {
    "id": "p7qPRfvQS7LZ"
   },
   "outputs": [],
   "source": [
    "# Completa el ejercicio aquí"
   ]
  },
  {
   "cell_type": "markdown",
   "metadata": {},
   "source": [
    "**Ejercicio 3** \n",
    "\n",
    "El siguiente código pretende realizar una media entre 3 números, pero no funciona correctamente. ¿Eres capaz de identificar el problema y solucionarlo?"
   ]
  },
  {
   "cell_type": "code",
   "execution_count": null,
   "metadata": {},
   "outputs": [],
   "source": [
    "numero_1 = 9\n",
    "numero_2 = 3\n",
    "numero_3 = 6\n",
    "\n",
    "media = numero_1 + numero_2 + numero_3 / 3\n",
    "print(\"La nota media es\", media)"
   ]
  },
  {
   "cell_type": "code",
   "execution_count": null,
   "metadata": {},
   "outputs": [],
   "source": [
    "# Completa el ejercicio aquí"
   ]
  },
  {
   "cell_type": "markdown",
   "metadata": {
    "id": "b9DLcIKpS7LZ"
   },
   "source": [
    "**Ejercicio 4**\n",
    "\n",
    "Escribir un programa que lea un entero porsitivo, $n$, introducido por el usuario y después muestre en pantalla la suma de todos los enteros desde 1 hasta $n$. La suma de los $n$ primeros enteros positivos puede ser calculada de la siguiente forma: \n",
    "\n",
    "$$ \\mbox{suma} = \\frac{n(n+1)}{2} $$\n",
    "\n",
    "*Introduzca un número entero: 5* <br>\n",
    "*La suma de los primeros números enteros desde 1 hasta 5 es 15.0*"
   ]
  },
  {
   "cell_type": "code",
   "execution_count": null,
   "metadata": {
    "id": "YiXcczoCS7La"
   },
   "outputs": [],
   "source": [
    "# Completa el ejercicio aquí"
   ]
  },
  {
   "cell_type": "markdown",
   "metadata": {
    "id": "fd5gsyBES7La"
   },
   "source": [
    "**Ejercicio 5** \n",
    "\n",
    "Queremos calcular el promedio final ponderado de 3 notas y mostrarlo en pantalla. Estos son los pesos:\n",
    "\n",
    "* La primera nota vale un 15% del total\n",
    "* La segunda nota vale un 35% del total\n",
    "* La tercera nota vale un 50% del total\n",
    "\n",
    "Desarrolla un código para calcular correctamente la nota final, teniendo en cuenta que las notas de un alumno son 18, 14 y 12."
   ]
  },
  {
   "cell_type": "code",
   "execution_count": null,
   "metadata": {
    "id": "2J-TjuKBS7La"
   },
   "outputs": [],
   "source": [
    "# Completa el ejercicio aquí"
   ]
  },
  {
   "cell_type": "markdown",
   "metadata": {
    "id": "T5jljadHS7Le"
   },
   "source": [
    "## Parte 2: ***Operaciones con Strings***"
   ]
  },
  {
   "cell_type": "markdown",
   "metadata": {
    "id": "4PGMZoL0S7Le"
   },
   "source": [
    "**Ejercicio 1**\n",
    "\n",
    "Escribir un programa que pregunte el nombre del usuario en la consola y después de que el usuario lo introduzca muestre por pantalla el nombre en mayúsculas y el número de caracteres que contiene en líneas distintas. Por ejemplo:\n",
    "\n",
    "<i>¿Cómo te llamas? Felipe<br>\n",
    "FELIPE tiene 6 letras</i>"
   ]
  },
  {
   "cell_type": "code",
   "execution_count": null,
   "metadata": {
    "id": "yx7TyStqS7Le"
   },
   "outputs": [],
   "source": [
    "# Completa el ejercicio aquí"
   ]
  },
  {
   "cell_type": "markdown",
   "metadata": {
    "id": "HfXoEPjES7Le"
   },
   "source": [
    "**Ejercicio 2**\n",
    "\n",
    "Dado el siguiente texto, limpiar todo signo de interrogación y puntuación. Finalmente convertir a minúscula y mostrarlo en pantalla. Además de ello mencione el largo de la cadena de caracteres."
   ]
  },
  {
   "cell_type": "code",
   "execution_count": null,
   "metadata": {
    "id": "tdgm6ogkS7Lf"
   },
   "outputs": [],
   "source": [
    "t = '¿En dónde trabajas?, ¿CUÁNTA EXPERIENCIA TIENES?, ¿Por qué has tenido 5 trabajos en solo 2 años?.'\n",
    "\n",
    "# Completa el ejercicio aquí"
   ]
  },
  {
   "cell_type": "markdown",
   "metadata": {
    "id": "NVWXMk98S7Lg"
   },
   "source": [
    "**Ejercicio 3**\n",
    "\n",
    "Ejecute el siguiente código y diga con sus palabras que es lo que hace. Ingrese su respuesta como un comentario en el código."
   ]
  },
  {
   "cell_type": "code",
   "execution_count": null,
   "metadata": {
    "id": "lD0eUNigS7Lh"
   },
   "outputs": [],
   "source": [
    "str_ex2=\"Curso_DMC\"\n",
    "str_ex2[str_ex2.index(\"_\")+1:]\n",
    "\n",
    "#"
   ]
  },
  {
   "cell_type": "markdown",
   "metadata": {
    "id": "95kU4KxqS7Lf"
   },
   "source": [
    "**Ejercicio 4** \n",
    "\n",
    "Al realizar una consulta en un registro hemos obtenido una cadena de texto corrupta al revés. \n",
    "Al parecer contiene el nombre de un alumno y la nota de un exámen. \n",
    "¿Cómo podríamos formatear la cadena y conseguir una estructura como la siguiente?:\n",
    "\n",
    "* ***Nombre*** ***Apellido*** ha sacado un ***Nota*** de nota.\n",
    "\n",
    "*Ayuda: Para voltear una cadena rápidamente utilizando slicing podemos utilizar un tercer índice -1: cadena[::-1]*"
   ]
  },
  {
   "cell_type": "code",
   "execution_count": null,
   "metadata": {
    "id": "KiYd8R80S7Lf"
   },
   "outputs": [],
   "source": [
    "cadena = \"zeréP epeP,81\"\n",
    "\n",
    "# Completa el ejercicio aquí"
   ]
  },
  {
   "cell_type": "markdown",
   "metadata": {
    "id": "naJ2-zO-S7Lg"
   },
   "source": [
    "**Ejercicio 5**\n",
    "\n",
    "Supongamos que tenemos los siguientes datos:\n",
    "\n",
    "- **nombre**: Nataly Silva\n",
    "- **edad**: 18\n",
    "- **direccion**: Av. República de Panamá 3055\n",
    "- **pais**: Perú\n",
    "- **ingreso**: 3500\n",
    "- **gastos**: 1820.50\n",
    "\n",
    "\n",
    "Escribe código para que, tras guardar los datos en variables, se imprima por pantalla:\n",
    "\n",
    "`'Nataly Silva, de 18 años y domicilio en Av. República de Panamá 3055 Perú, tiene restante de su ingreso tras los gastos 1679.50'`"
   ]
  },
  {
   "cell_type": "code",
   "execution_count": null,
   "metadata": {
    "id": "NTTAfEmTS7Lg"
   },
   "outputs": [],
   "source": [
    "# Completa el ejercicio aquí"
   ]
  },
  {
   "cell_type": "markdown",
   "metadata": {
    "id": "7q67A4rBS7Lh"
   },
   "source": [
    "## Parte 3: ***Estructuras de control***"
   ]
  },
  {
   "cell_type": "markdown",
   "metadata": {
    "id": "FCC199yNS7Lh"
   },
   "source": [
    "**Ejercicio 1**\n",
    "\n",
    "Escribir un programa que pida al usuario dos números y muestre por pantalla su división. Si el divisor es cero el programa debe mostrar un mensaje de error usando un condicional."
   ]
  },
  {
   "cell_type": "code",
   "execution_count": null,
   "metadata": {
    "id": "QkBoC9CIS7Lh"
   },
   "outputs": [],
   "source": [
    "# Completa el ejercicio aquí"
   ]
  },
  {
   "cell_type": "markdown",
   "metadata": {
    "id": "NmcZqgyGS7Lh"
   },
   "source": [
    "**Ejercicio 2**\n",
    "\n",
    "**a.** Escriba una sentencia for para calcular la suma de todos los números entre el 1 y el 100. Es decir, 1+2+3+....+99+100\n",
    "\n",
    "**b.** Escriba una sentencia para calcular la suma de todos los números pares entre el 1 y el 100, y luego otra para calcular la suma de los números impares."
   ]
  },
  {
   "cell_type": "code",
   "execution_count": null,
   "metadata": {
    "id": "y6ds3rTAS7Li"
   },
   "outputs": [],
   "source": [
    "# Completa el ejercicio aquí"
   ]
  },
  {
   "cell_type": "markdown",
   "metadata": {
    "id": "eaPJwOGsS7Li"
   },
   "source": [
    "**Ejercicio 3**\n",
    "\n",
    "Escribe un programa que solicite por pantalla un número entero (si es otro tipo de valor que muestre un mensaje de error), y que devuelva impreso por pantalla la tabla de multiplicar de dicho número del 1 al 10, por ejemplo:\n",
    "\n",
    "Ingrese un número: 9\n",
    "\n",
    "- 9 x 1 = 9\n",
    "- 9 x 2 = 18\n",
    "- 9 x 3 = 27\n",
    "- 9 x 4 = 36\n",
    "- 9 x 5 = 45\n",
    "- 9 x 6 = 54\n",
    "- 9 x 7 = 63\n",
    "- 9 x 8 = 72\n",
    "- 9 x 9 = 81\n",
    "- 9 x 10 = 90"
   ]
  },
  {
   "cell_type": "code",
   "execution_count": null,
   "metadata": {
    "id": "6KvKUq09S7Lj"
   },
   "outputs": [],
   "source": [
    "# Completa el ejercicio aquí"
   ]
  },
  {
   "cell_type": "markdown",
   "metadata": {
    "id": "yUfBcxkfS7Lj"
   },
   "source": [
    "**Ejercicio 4**\n",
    "\n",
    "Escribir un programa que almacene la cadena de caracteres ***PASSWORD*** en una variable, pregunte al usuario por la contraseña hasta que introduzca la contraseña correcta sin tener en cuenta mayúsculas y minúsculas.\n",
    "\n",
    "*Introduce la contraseña: 123456*<br>\n",
    "*Introduce la contraseña: Contraseña*<br>\n",
    "*Introduce la contraseña: ABC*<br>\n",
    "*Introduce la contraseña: PassWORD*<br>\n",
    "*Contraseña correcta*"
   ]
  },
  {
   "cell_type": "code",
   "execution_count": null,
   "metadata": {
    "id": "a7Kbc2ZqS7Lj"
   },
   "outputs": [],
   "source": [
    "# Completa el ejercicio aquí"
   ]
  },
  {
   "cell_type": "markdown",
   "metadata": {},
   "source": [
    "## Parte 4: ***Estructuras de datos en Python***"
   ]
  },
  {
   "cell_type": "markdown",
   "metadata": {},
   "source": [
    "**Ejercicio 1**\n",
    "\n",
    "**a.** Escribir un programa que pregunte al usuario 6 números, los almacene en una lista y los muestre por pantalla ordenados de menor a mayor.\n",
    "\n",
    "* Introduce un número:  46\n",
    "* Introduce un número:  25\n",
    "* Introduce un número:  32\n",
    "* Introduce un número:  15\n",
    "* Introduce un número:  9\n",
    "* Introduce un número:  21\n",
    "* Los números ingresados son [9, 15, 21, 25, 32, 46]\n",
    "\n",
    "**b.** Cree un comando que mueva los dos últimos elementos de la lista al comienzo de la misma (Ayuda: puede utilizar las funciones de listas *remove* e *insert*)"
   ]
  },
  {
   "cell_type": "code",
   "execution_count": null,
   "metadata": {},
   "outputs": [],
   "source": [
    "# Completa el ejercicio aquí"
   ]
  },
  {
   "cell_type": "markdown",
   "metadata": {},
   "source": [
    "**Ejercicio 2**\n",
    "\n",
    "Genere una lista de números enteros del 1 al 99 (usando *list* y *range*) y elimine de la lista los múltiplos de 5 y de 7. Finalmente muestre el listado los números restantes."
   ]
  },
  {
   "cell_type": "code",
   "execution_count": null,
   "metadata": {},
   "outputs": [],
   "source": [
    "# Completa el ejercicio aquí"
   ]
  },
  {
   "cell_type": "markdown",
   "metadata": {},
   "source": [
    "**Ejercicio 3**\n",
    "\n",
    "Crear los siguientes conjuntos: {a,b,c,d,e,f,g,h,i} y {a,e,i,o,u}, y realice las operaciones de unión, intersección y diferencia de conjuntos. Repita lo anterior con estos conjuntos: {1,2,3,4,5,6,7,8,9} y {1,3,5,7,9}"
   ]
  },
  {
   "cell_type": "code",
   "execution_count": null,
   "metadata": {},
   "outputs": [],
   "source": [
    "# Completa el ejercicio aquí"
   ]
  },
  {
   "cell_type": "markdown",
   "metadata": {},
   "source": [
    "**Ejercicio 4**\n",
    "\n",
    "Usando conjuntos y listas, ingrese algunas líneas de código que permita ingresar una palabra, convertirlo en mayúscula, que elimine las vocales y queden las consonantes distintas. Finalmente debe devolver el listado de consonantes en orden descendente. \n",
    "\n",
    "* Ingresa una palabra: murciélago\n",
    "* ['R', 'M', 'L', 'G', 'C']"
   ]
  },
  {
   "cell_type": "code",
   "execution_count": null,
   "metadata": {},
   "outputs": [],
   "source": [
    "# Completa el ejercicio aquí"
   ]
  },
  {
   "attachments": {
    "image.png": {
     "image/png": "[encoded data removed]"
    }
   },
   "cell_type": "markdown",
   "metadata": {},
   "source": [
    "**Ejercicio 5**\n",
    "\n",
    "Almacene en un diccionario los precios de las frutas de la siguiente tabla. Luego pregunte al usuario por una fruta, el número de kilos y muestre por pantalla el precio de ese número de kilos de fruta. Si la fruta no está en el diccionario debe mostrar un mensaje informando de ello. \n",
    "![image.png](attachment:image.png)"
   ]
  },
  {
   "cell_type": "code",
   "execution_count": null,
   "metadata": {},
   "outputs": [],
   "source": [
    "# Completa el ejercicio aquí"
   ]
  }
 ],
 "metadata": {
  "anaconda-cloud": {},
  "colab": {
   "collapsed_sections": [],
   "name": "Python - Ejercicios Propuestos #1.ipynb",
   "provenance": []
  },
  "kernelspec": {
   "display_name": "Python 3",
   "language": "python",
   "name": "python3"
  },
  "language_info": {
   "codemirror_mode": {
    "name": "ipython",
    "version": 3
   },
   "file_extension": ".py",
   "mimetype": "text/x-python",
   "name": "python",
   "nbconvert_exporter": "python",
   "pygments_lexer": "ipython3",
   "version": "3.10.4"
  }
 },
 "nbformat": 4,
 "nbformat_minor": 4
}
